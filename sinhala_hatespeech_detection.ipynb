{
 "cells": [
  {
   "cell_type": "code",
   "execution_count": 2,
   "metadata": {},
   "outputs": [],
   "source": [
    "import pandas as pd\n",
    "import re\n",
    "import nltk\n",
    "from nltk.tokenize import word_tokenize \n",
    "import csv\n",
    "import io\n",
    "import numpy as np\n",
    "import matplotlib.pyplot as plt\n",
    "from sklearn.feature_extraction.text import TfidfTransformer\n",
    "from sklearn.linear_model import LogisticRegression\n",
    "from sklearn.feature_extraction.text import CountVectorizer"
   ]
  },
  {
   "cell_type": "markdown",
   "metadata": {},
   "source": [
    "Read CSV data"
   ]
  },
  {
   "cell_type": "code",
   "execution_count": 3,
   "metadata": {},
   "outputs": [],
   "source": [
    "# read csv data\n",
    "data = pd.read_csv(\"Sinhala_Singlish_Hate_Speech.csv\")"
   ]
  },
  {
   "cell_type": "markdown",
   "metadata": {},
   "source": [
    "Data preprocessing"
   ]
  },
  {
   "cell_type": "code",
   "execution_count": 4,
   "metadata": {},
   "outputs": [],
   "source": [
    "# preporocessing texts\n",
    "def preporocessingText(sentence):\n",
    "    #regex for html tags cleaner \n",
    "    cleaner_htmlTags  = re.compile('<.*?>|&([a-z0-9]+|#[0-9]{1,6}|#x[0-9a-f]{1,6});')\n",
    "    cleantext_htmltags = re.sub(cleaner_htmlTags, '',sentence).lower()   #convert to lower case\n",
    "    \n",
    "    #regex for non alphabetical characters cleaner\n",
    "    cleantext_NonAlp = re.compile(u'[^\\u0061-\\u007A|^\\u0D80-\\u0DFF|^\\u0030-\\u0039]', re.UNICODE)\n",
    "    #Englosh lower case unicode range = \\u0061-\\u007A \n",
    "    #Sinhala unicode range = |u0D80-\\u0DFF\n",
    "    #Numbers unicode range = \\u0030-\\u0039 \n",
    "    \n",
    "    cleantext_finalText = re.sub(cleantext_NonAlp, ' ',cleantext_htmltags).strip(\" \")\n",
    "    \n",
    "    #tokenzing\n",
    "    #finalText = word_tokenize(cleantext_finalText)\n",
    "    #finalText = sent_token = nltk.sent_tokenize(tokenzie_finalText)\n",
    "\n",
    "    #return finalText\n",
    "    return cleantext_finalText"
   ]
  },
  {
   "cell_type": "markdown",
   "metadata": {},
   "source": [
    "check is whether sentesnces has full english letters(romanized sinhala) or mix of english & sinhala words"
   ]
  },
  {
   "cell_type": "code",
   "execution_count": 5,
   "metadata": {},
   "outputs": [],
   "source": [
    "def isSinglish(sentence):\n",
    "    try:\n",
    "        sentence.encode(encoding='utf-8').decode('ascii')\n",
    "    except UnicodeDecodeError:\n",
    "        return False\n",
    "    else:\n",
    "        return True\n"
   ]
  },
  {
   "cell_type": "markdown",
   "metadata": {},
   "source": [
    "Generate two separe dataframes(romanized sinhala and mix of english & sinhala words)"
   ]
  },
  {
   "cell_type": "code",
   "execution_count": 7,
   "metadata": {},
   "outputs": [],
   "source": [
    "# genarate separate dataframes\n",
    "df_Sinhala  = pd.DataFrame(columns=['PhraseNo', 'Phrase', 'IsHateSpeech'])\n",
    "df_Singlish = pd.DataFrame(columns=['PhraseNo', 'Phrase', 'IsHateSpeech'])\n",
    "df_All_preprocess = pd.DataFrame(columns=['PhraseNo', 'Phrase', 'IsHateSpeech'])\n",
    "\n",
    "\n",
    "singish_index = 1\n",
    "sinhala_index = 1\n",
    "\n",
    "for i in range(data.shape[0]):\n",
    "    dataSentence = data['Phrase'][i]\n",
    "    preprocessData = preporocessingText(dataSentence)\n",
    "\n",
    "    if(isSinglish(dataSentence)):\n",
    "        df_Singlish.loc[singish_index-1] = [singish_index] + [preprocessData] + [data['IsHateSpeech'][i]]\n",
    "        singish_index += 1\n",
    "        \n",
    "    else:\n",
    "        df_Sinhala.loc[sinhala_index-1] = [sinhala_index] + [preprocessData] + [data['IsHateSpeech'][i]]\n",
    "        sinhala_index += 1 \n",
    "    df_All_preprocess.loc[i] = [i+1] + [preprocessData] + [data['IsHateSpeech'][i]]\n",
    "        \n",
    "#df_Sinhala.to_csv('Sinhala_hatespeech.csv')\n",
    "#df_Singlish.to_csv('Singlish_hatespeech.csv')\n",
    "#df_All_preprocess.to_csv('AllPreProcess_hatespeech.csv')"
   ]
  },
  {
   "cell_type": "markdown",
   "metadata": {},
   "source": [
    "Print percentage of the data"
   ]
  },
  {
   "cell_type": "code",
   "execution_count": 8,
   "metadata": {},
   "outputs": [
    {
     "name": "stdout",
     "output_type": "stream",
     "text": [
      "Sinhala sentences percentage(mix sinhala and english letters)  =  72.48 %\n",
      "Singlish sentences percentage(only has english letters) =  27.6 %\n"
     ]
    }
   ],
   "source": [
    "sinhala_sent_percentage = (sinhala_index/data.shape[0])*100\n",
    "singlish_sent_percentage = (singish_index/data.shape[0])*100\n",
    "print(\"Sinhala sentences percentage(mix sinhala and english letters)  = \",str(sinhala_sent_percentage)+\" %\")\n",
    "print(\"Singlish sentences percentage(only has english letters) = \",str(singlish_sent_percentage) +\" %\")"
   ]
  },
  {
   "cell_type": "code",
   "execution_count": 10,
   "metadata": {},
   "outputs": [],
   "source": [
    "def getUniqueTokens(myarr):\n",
    "    myset = list(set(myarr))\n",
    "    return myset\n",
    "\n",
    "def joinWordsIntoSentence(dataframe):\n",
    "    for itm in range(len(dataframe)):\n",
    "        words_arr = dataframe['Phrase'][itm]\n",
    "        dataframe['Phrase'][itm] = ( \" \".join( words_arr ))"
   ]
  },
  {
   "cell_type": "code",
   "execution_count": null,
   "metadata": {},
   "outputs": [],
   "source": [
    "### For Sinhala Dataset(has sinhala end engli)"
   ]
  }
 ],
 "metadata": {
  "kernelspec": {
   "display_name": "Python (nlp)",
   "language": "python",
   "name": "nlp"
  },
  "language_info": {
   "codemirror_mode": {
    "name": "ipython",
    "version": 3
   },
   "file_extension": ".py",
   "mimetype": "text/x-python",
   "name": "python",
   "nbconvert_exporter": "python",
   "pygments_lexer": "ipython3",
   "version": "3.6.10"
  }
 },
 "nbformat": 4,
 "nbformat_minor": 2
}
