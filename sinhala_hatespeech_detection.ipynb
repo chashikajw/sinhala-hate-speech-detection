{
 "cells": [
  {
   "cell_type": "code",
   "execution_count": 2,
   "metadata": {},
   "outputs": [],
   "source": [
    "import pandas as pd\n",
    "import re\n",
    "import nltk\n",
    "from nltk.tokenize import word_tokenize \n",
    "import csv\n",
    "import io\n",
    "import numpy as np\n",
    "import matplotlib.pyplot as plt\n",
    "from sklearn.feature_extraction.text import TfidfTransformer\n",
    "from sklearn.linear_model import LogisticRegression\n",
    "from sklearn.feature_extraction.text import CountVectorizer"
   ]
  },
  {
   "cell_type": "markdown",
   "metadata": {},
   "source": [
    "Read CSV data"
   ]
  },
  {
   "cell_type": "code",
   "execution_count": 3,
   "metadata": {},
   "outputs": [],
   "source": [
    "# read csv data\n",
    "data = pd.read_csv(\"Sinhala_Singlish_Hate_Speech.csv\")"
   ]
  },
  {
   "cell_type": "markdown",
   "metadata": {},
   "source": [
    "Data preprocessing"
   ]
  },
  {
   "cell_type": "code",
   "execution_count": 4,
   "metadata": {},
   "outputs": [],
   "source": [
    "# preporocessing texts\n",
    "def preporocessingText(sentence):\n",
    "    #regex for html tags cleaner \n",
    "    cleaner_htmlTags  = re.compile('<.*?>|&([a-z0-9]+|#[0-9]{1,6}|#x[0-9a-f]{1,6});')\n",
    "    cleantext_htmltags = re.sub(cleaner_htmlTags, '',sentence).lower()   #convert to lower case\n",
    "    \n",
    "    #regex for non alphabetical characters cleaner\n",
    "    cleantext_NonAlp = re.compile(u'[^\\u0061-\\u007A|^\\u0D80-\\u0DFF|^\\u0030-\\u0039]', re.UNICODE)\n",
    "    #Englosh lower case unicode range = \\u0061-\\u007A \n",
    "    #Sinhala unicode range = |u0D80-\\u0DFF\n",
    "    #Numbers unicode range = \\u0030-\\u0039 \n",
    "    \n",
    "    cleantext_finalText = re.sub(cleantext_NonAlp, ' ',cleantext_htmltags).strip(\" \")\n",
    "    \n",
    "    #tokenzing\n",
    "    #finalText = word_tokenize(cleantext_finalText)\n",
    "    #finalText = sent_token = nltk.sent_tokenize(tokenzie_finalText)\n",
    "\n",
    "    #return finalText\n",
    "    return cleantext_finalText"
   ]
  },
  {
   "cell_type": "markdown",
   "metadata": {},
   "source": [
    "check is whether sentesnces has full english letters(romanized sinhala) or mix of english & sinhala words"
   ]
  },
  {
   "cell_type": "code",
   "execution_count": 5,
   "metadata": {},
   "outputs": [],
   "source": [
    "def isSinglish(sentence):\n",
    "    try:\n",
    "        sentence.encode(encoding='utf-8').decode('ascii')\n",
    "    except UnicodeDecodeError:\n",
    "        return False\n",
    "    else:\n",
    "        return True\n"
   ]
  },
  {
   "cell_type": "markdown",
   "metadata": {},
   "source": [
    "Generate two separe dataframes(romanized sinhala and mix of english & sinhala words)"
   ]
  },
  {
   "cell_type": "code",
   "execution_count": 7,
   "metadata": {},
   "outputs": [],
   "source": [
    "# genarate separate dataframes\n",
    "df_Sinhala  = pd.DataFrame(columns=['PhraseNo', 'Phrase', 'IsHateSpeech'])\n",
    "df_Singlish = pd.DataFrame(columns=['PhraseNo', 'Phrase', 'IsHateSpeech'])\n",
    "df_All_preprocess = pd.DataFrame(columns=['PhraseNo', 'Phrase', 'IsHateSpeech'])\n",
    "\n",
    "\n",
    "singish_index = 1\n",
    "sinhala_index = 1\n",
    "\n",
    "for i in range(data.shape[0]):\n",
    "    dataSentence = data['Phrase'][i]\n",
    "    preprocessData = preporocessingText(dataSentence)\n",
    "\n",
    "    if(isSinglish(dataSentence)):\n",
    "        df_Singlish.loc[singish_index-1] = [singish_index] + [preprocessData] + [data['IsHateSpeech'][i]]\n",
    "        singish_index += 1\n",
    "        \n",
    "    else:\n",
    "        df_Sinhala.loc[sinhala_index-1] = [sinhala_index] + [preprocessData] + [data['IsHateSpeech'][i]]\n",
    "        sinhala_index += 1 \n",
    "    df_All_preprocess.loc[i] = [i+1] + [preprocessData] + [data['IsHateSpeech'][i]]\n",
    "        \n",
    "#df_Sinhala.to_csv('Sinhala_hatespeech.csv')\n",
    "#df_Singlish.to_csv('Singlish_hatespeech.csv')\n",
    "#df_All_preprocess.to_csv('AllPreProcess_hatespeech.csv')"
   ]
  },
  {
   "cell_type": "markdown",
   "metadata": {},
   "source": [
    "Print percentage of the data"
   ]
  },
  {
   "cell_type": "code",
   "execution_count": 8,
   "metadata": {},
   "outputs": [
    {
     "name": "stdout",
     "output_type": "stream",
     "text": [
      "Sinhala sentences percentage(mix sinhala and english letters)  =  72.48 %\n",
      "Singlish sentences percentage(only has english letters) =  27.6 %\n"
     ]
    }
   ],
   "source": [
    "sinhala_sent_percentage = (sinhala_index/data.shape[0])*100\n",
    "singlish_sent_percentage = (singish_index/data.shape[0])*100\n",
    "print(\"Sinhala sentences percentage(mix sinhala and english letters)  = \",str(sinhala_sent_percentage)+\" %\")\n",
    "print(\"Singlish sentences percentage(only has english letters) = \",str(singlish_sent_percentage) +\" %\")"
   ]
  },
  {
   "cell_type": "code",
   "execution_count": 10,
   "metadata": {},
   "outputs": [],
   "source": [
    "def getUniqueTokens(myarr):\n",
    "    myset = list(set(myarr))\n",
    "    return myset\n",
    "\n",
    "def joinWordsIntoSentence(dataframe):\n",
    "    for itm in range(len(dataframe)):\n",
    "        words_arr = dataframe['Phrase'][itm]\n",
    "        dataframe['Phrase'][itm] = ( \" \".join( words_arr ))"
   ]
  },
  {
   "cell_type": "markdown",
   "metadata": {},
   "source": [
    "### For Sinhala Dataset(has sinhala end english words)"
   ]
  },
  {
   "cell_type": "markdown",
   "metadata": {},
   "source": [
    "#### Sinhala stop words removal"
   ]
  },
  {
   "cell_type": "code",
   "execution_count": 12,
   "metadata": {},
   "outputs": [],
   "source": [
    "#getting the stop words\n",
    "f_stopWords = io.open(\"StopWords_425.txt\", mode=\"r\", encoding=\"utf-16\")\n",
    "sinhala_stop_words = []\n",
    "df_StopWordsRemoval_Sinhala = pd.DataFrame(columns=['PhraseNo', 'Phrase', 'IsHateSpeech'])\n",
    "\n",
    "for x in f_stopWords:\n",
    "  sinhala_stop_words.append(x.split()[0])\n",
    "\n"
   ]
  },
  {
   "cell_type": "code",
   "execution_count": 13,
   "metadata": {},
   "outputs": [],
   "source": [
    "SinhalaData = df_Sinhala\n",
    "prev_lengths_arr = []\n",
    "prev_lengths_arr_unique = []\n",
    "after_removal_stopWords_lenghts_arr = []\n",
    "after_removal_stopWords_lenghts_arr_unique = [] \n",
    "\n",
    "for k in range(SinhalaData.shape[0]):\n",
    "    SentenceTokens = word_tokenize(SinhalaData['Phrase'][k])\n",
    "    \n",
    "    prev_lengths_arr.append(len(SentenceTokens))\n",
    "    #print(len(SentenceTokens))\n",
    "    prev_lengths_arr_unique.append(len(getUniqueTokens(SentenceTokens)))\n",
    "    #remove stop words\n",
    "    removing_stopwords_sentence = [word for word in SentenceTokens if word not in sinhala_stop_words]\n",
    "    after_removal_stopWords_lenghts_arr.append(len(removing_stopwords_sentence))\n",
    "    after_removal_stopWords_lenghts_arr_unique.append(len(getUniqueTokens(removing_stopwords_sentence)))\n",
    "    #print(removing_stopwords_sentence)\n",
    "    df_StopWordsRemoval_Sinhala.loc[k] = [k+1] + [removing_stopwords_sentence] + [SinhalaData['IsHateSpeech'][k]]\n",
    "    \n",
    "\n",
    "joinWordsIntoSentence(df_StopWordsRemoval_Sinhala )"
   ]
  },
  {
   "cell_type": "code",
   "execution_count": 14,
   "metadata": {},
   "outputs": [
    {
     "data": {
      "text/html": [
       "<div>\n",
       "<style scoped>\n",
       "    .dataframe tbody tr th:only-of-type {\n",
       "        vertical-align: middle;\n",
       "    }\n",
       "\n",
       "    .dataframe tbody tr th {\n",
       "        vertical-align: top;\n",
       "    }\n",
       "\n",
       "    .dataframe thead th {\n",
       "        text-align: right;\n",
       "    }\n",
       "</style>\n",
       "<table border=\"1\" class=\"dataframe\">\n",
       "  <thead>\n",
       "    <tr style=\"text-align: right;\">\n",
       "      <th></th>\n",
       "      <th>PhraseNo</th>\n",
       "      <th>Phrase</th>\n",
       "      <th>IsHateSpeech</th>\n",
       "    </tr>\n",
       "  </thead>\n",
       "  <tbody>\n",
       "    <tr>\n",
       "      <th>0</th>\n",
       "      <td>1</td>\n",
       "      <td>බැල්ලි කොටින්ගේ ගු කනකොට අපහසුවක් දැනුනෙ දන් ඔ...</td>\n",
       "      <td>YES</td>\n",
       "    </tr>\n",
       "    <tr>\n",
       "      <th>1</th>\n",
       "      <td>2</td>\n",
       "      <td>මන් ඊයේ මුස්ලිම් ඩෑල් එකක් සෙල්ෆියක් ගත්තා සහජ...</td>\n",
       "      <td>YES</td>\n",
       "    </tr>\n",
       "    <tr>\n",
       "      <th>2</th>\n",
       "      <td>3</td>\n",
       "      <td>සංහිදියාවට අවුලක් වෙයි</td>\n",
       "      <td>NO</td>\n",
       "    </tr>\n",
       "    <tr>\n",
       "      <th>3</th>\n",
       "      <td>4</td>\n",
       "      <td>කටින් පුරසාරම් දොඩන අපි සිංහලයො විදියට ලැජ්ජා ...</td>\n",
       "      <td>YES</td>\n",
       "    </tr>\n",
       "    <tr>\n",
       "      <th>4</th>\n",
       "      <td>5</td>\n",
       "      <td>මචන් මගුල නවත්තලා කොන්දක් තියෙනවානම් පුලුවන්නම...</td>\n",
       "      <td>YES</td>\n",
       "    </tr>\n",
       "    <tr>\n",
       "      <th>...</th>\n",
       "      <td>...</td>\n",
       "      <td>...</td>\n",
       "      <td>...</td>\n",
       "    </tr>\n",
       "    <tr>\n",
       "      <th>1806</th>\n",
       "      <td>1807</td>\n",
       "      <td>දෙන්නා එකතු වෙලා tv program එකක් කරන්නකො තියන ...</td>\n",
       "      <td>NO</td>\n",
       "    </tr>\n",
       "    <tr>\n",
       "      <th>1807</th>\n",
       "      <td>1808</td>\n",
       "      <td>මොනා කිව්වත් ඔයාල දෙන්නගෙ කටවල් දෙකට ගහන්න ලංක...</td>\n",
       "      <td>NO</td>\n",
       "    </tr>\n",
       "    <tr>\n",
       "      <th>1808</th>\n",
       "      <td>1809</td>\n",
       "      <td>ඇස්වහ කටවහක් ඔයාලා දෙනාටම හැමදාමත් අපිව සතුටින...</td>\n",
       "      <td>NO</td>\n",
       "    </tr>\n",
       "    <tr>\n",
       "      <th>1809</th>\n",
       "      <td>1810</td>\n",
       "      <td>මුන් දෙන්න රෙඩියෝ එකේ සුපිරි ඩබල හිරු ඉන්න කාල...</td>\n",
       "      <td>NO</td>\n",
       "    </tr>\n",
       "    <tr>\n",
       "      <th>1810</th>\n",
       "      <td>1811</td>\n",
       "      <td>ane manda joke eka hodai eth wadu දෙමව්පියන්ව ...</td>\n",
       "      <td>NO</td>\n",
       "    </tr>\n",
       "  </tbody>\n",
       "</table>\n",
       "<p>1811 rows × 3 columns</p>\n",
       "</div>"
      ],
      "text/plain": [
       "     PhraseNo                                             Phrase IsHateSpeech\n",
       "0           1  බැල්ලි කොටින්ගේ ගු කනකොට අපහසුවක් දැනුනෙ දන් ඔ...          YES\n",
       "1           2  මන් ඊයේ මුස්ලිම් ඩෑල් එකක් සෙල්ෆියක් ගත්තා සහජ...          YES\n",
       "2           3                             සංහිදියාවට අවුලක් වෙයි           NO\n",
       "3           4  කටින් පුරසාරම් දොඩන අපි සිංහලයො විදියට ලැජ්ජා ...          YES\n",
       "4           5  මචන් මගුල නවත්තලා කොන්දක් තියෙනවානම් පුලුවන්නම...          YES\n",
       "...       ...                                                ...          ...\n",
       "1806     1807  දෙන්නා එකතු වෙලා tv program එකක් කරන්නකො තියන ...           NO\n",
       "1807     1808  මොනා කිව්වත් ඔයාල දෙන්නගෙ කටවල් දෙකට ගහන්න ලංක...           NO\n",
       "1808     1809  ඇස්වහ කටවහක් ඔයාලා දෙනාටම හැමදාමත් අපිව සතුටින...           NO\n",
       "1809     1810  මුන් දෙන්න රෙඩියෝ එකේ සුපිරි ඩබල හිරු ඉන්න කාල...           NO\n",
       "1810     1811  ane manda joke eka hodai eth wadu දෙමව්පියන්ව ...           NO\n",
       "\n",
       "[1811 rows x 3 columns]"
      ]
     },
     "execution_count": 14,
     "metadata": {},
     "output_type": "execute_result"
    }
   ],
   "source": [
    "df_StopWordsRemoval_Sinhala"
   ]
  },
  {
   "cell_type": "markdown",
   "metadata": {},
   "source": [
    "Drwaing a bar histograms to show sentences lenghts distribution"
   ]
  },
  {
   "cell_type": "code",
   "execution_count": 15,
   "metadata": {},
   "outputs": [
    {
     "data": {
      "image/png": "[encoded data removed]",
      "text/plain": [
       "<Figure size 864x504 with 2 Axes>"
      ]
     },
     "metadata": {
      "needs_background": "light"
     },
     "output_type": "display_data"
    }
   ],
   "source": [
    "preLenghts = prev_lengths_arr\n",
    "afterLenghts = after_removal_stopWords_lenghts_arr\n",
    "preLenghtsUnique = prev_lengths_arr_unique\n",
    "afterLenghtsUnique = after_removal_stopWords_lenghts_arr_unique\n",
    "\n",
    "arr1 = []\n",
    "arr2 = []\n",
    "for i in range(len(preLenghts)):\n",
    "    ar_i = []\n",
    "    ar_i.append(preLenghts[i])\n",
    "    ar_i.append(afterLenghts[i])\n",
    "    arr1.append(ar_i)\n",
    "    \n",
    "    ar_j = []\n",
    "    ar_j.append(preLenghtsUnique[i])\n",
    "    ar_j.append(afterLenghtsUnique[i])\n",
    "    arr2.append(ar_j)\n",
    "    \n",
    "import numpy as np\n",
    "myarray1 = np.asarray(arr1)\n",
    "myarray2 = np.asarray(arr2)\n",
    "\n",
    "\n",
    "import matplotlib.pyplot as plt\n",
    "\n",
    "np.random.seed(19680801)\n",
    "\n",
    "n_bins = 30\n",
    "x = np.random.randn(1000, 3)\n",
    "\n",
    "fig, axes = plt.subplots(nrows=1, ncols=2,figsize=(12, 7))\n",
    "ax0, ax1 = axes.flatten()\n",
    "\n",
    "colors = ['red', 'tan']\n",
    "\n",
    "\n",
    "ax0.hist(myarray1, n_bins, density=True, histtype='bar', stacked=True,label=colors)\n",
    "ax0.set_title('sentences(before and after stopwordsremoval)')\n",
    "\n",
    "ax1.hist(myarray2, n_bins, density=True, histtype='bar', stacked=True,color=colors, label=colors)\n",
    "ax1.set_title('unique sentences(before and after stopwordsremoval)')\n",
    "\n",
    "\n",
    "\n",
    "fig.tight_layout()\n",
    "plt.show()"
   ]
  },
  {
   "cell_type": "code",
   "execution_count": 16,
   "metadata": {},
   "outputs": [
    {
     "name": "stdout",
     "output_type": "stream",
     "text": [
      "Max length(previous) =  142\n",
      "Max length(after removal of stopwords) =  126\n",
      "\n",
      "Min length(previous) =  2\n",
      "Min length(after removal of stopwords) =  1\n"
     ]
    }
   ],
   "source": [
    "print(\"Max length(previous) = \",max(prev_lengths_arr))\n",
    "print(\"Max length(after removal of stopwords) = \",max(after_removal_stopWords_lenghts_arr))\n",
    "print()\n",
    "print(\"Min length(previous) = \",min(prev_lengths_arr))\n",
    "print(\"Min length(after removal of stopwords) = \",min(after_removal_stopWords_lenghts_arr))"
   ]
  },
  {
   "cell_type": "markdown",
   "metadata": {},
   "source": []
  },
  {
   "cell_type": "code",
   "execution_count": null,
   "metadata": {},
   "outputs": [],
   "source": []
  }
 ],
 "metadata": {
  "kernelspec": {
   "display_name": "Python (nlp)",
   "language": "python",
   "name": "nlp"
  },
  "language_info": {
   "codemirror_mode": {
    "name": "ipython",
    "version": 3
   },
   "file_extension": ".py",
   "mimetype": "text/x-python",
   "name": "python",
   "nbconvert_exporter": "python",
   "pygments_lexer": "ipython3",
   "version": "3.6.10"
  }
 },
 "nbformat": 4,
 "nbformat_minor": 2
}
